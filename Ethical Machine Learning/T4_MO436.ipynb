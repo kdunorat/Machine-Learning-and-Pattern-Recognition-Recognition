{
  "nbformat": 4,
  "nbformat_minor": 0,
  "metadata": {
    "colab": {
      "provenance": []
    },
    "kernelspec": {
      "name": "python3",
      "display_name": "Python 3"
    },
    "language_info": {
      "name": "python"
    }
  },
  "cells": [
    {
      "cell_type": "code",
      "source": [
        "!pip install aif360\n",
        "!pip install fairlearn"
      ],
      "metadata": {
        "colab": {
          "base_uri": "https://localhost:8080/"
        },
        "id": "DVfTcggqXGsM",
        "outputId": "1a378f56-5c0b-4606-91d2-50262b6509f0"
      },
      "execution_count": null,
      "outputs": [
        {
          "output_type": "stream",
          "name": "stdout",
          "text": [
            "Collecting aif360\n",
            "  Downloading aif360-0.6.1-py3-none-any.whl.metadata (5.0 kB)\n",
            "Requirement already satisfied: numpy>=1.16 in /usr/local/lib/python3.10/dist-packages (from aif360) (1.26.4)\n",
            "Requirement already satisfied: scipy>=1.2.0 in /usr/local/lib/python3.10/dist-packages (from aif360) (1.13.1)\n",
            "Requirement already satisfied: pandas>=0.24.0 in /usr/local/lib/python3.10/dist-packages (from aif360) (2.2.2)\n",
            "Requirement already satisfied: scikit-learn>=1.0 in /usr/local/lib/python3.10/dist-packages (from aif360) (1.5.2)\n",
            "Requirement already satisfied: matplotlib in /usr/local/lib/python3.10/dist-packages (from aif360) (3.8.0)\n",
            "Requirement already satisfied: python-dateutil>=2.8.2 in /usr/local/lib/python3.10/dist-packages (from pandas>=0.24.0->aif360) (2.8.2)\n",
            "Requirement already satisfied: pytz>=2020.1 in /usr/local/lib/python3.10/dist-packages (from pandas>=0.24.0->aif360) (2024.2)\n",
            "Requirement already satisfied: tzdata>=2022.7 in /usr/local/lib/python3.10/dist-packages (from pandas>=0.24.0->aif360) (2024.2)\n",
            "Requirement already satisfied: joblib>=1.2.0 in /usr/local/lib/python3.10/dist-packages (from scikit-learn>=1.0->aif360) (1.4.2)\n",
            "Requirement already satisfied: threadpoolctl>=3.1.0 in /usr/local/lib/python3.10/dist-packages (from scikit-learn>=1.0->aif360) (3.5.0)\n",
            "Requirement already satisfied: contourpy>=1.0.1 in /usr/local/lib/python3.10/dist-packages (from matplotlib->aif360) (1.3.1)\n",
            "Requirement already satisfied: cycler>=0.10 in /usr/local/lib/python3.10/dist-packages (from matplotlib->aif360) (0.12.1)\n",
            "Requirement already satisfied: fonttools>=4.22.0 in /usr/local/lib/python3.10/dist-packages (from matplotlib->aif360) (4.55.0)\n",
            "Requirement already satisfied: kiwisolver>=1.0.1 in /usr/local/lib/python3.10/dist-packages (from matplotlib->aif360) (1.4.7)\n",
            "Requirement already satisfied: packaging>=20.0 in /usr/local/lib/python3.10/dist-packages (from matplotlib->aif360) (24.2)\n",
            "Requirement already satisfied: pillow>=6.2.0 in /usr/local/lib/python3.10/dist-packages (from matplotlib->aif360) (11.0.0)\n",
            "Requirement already satisfied: pyparsing>=2.3.1 in /usr/local/lib/python3.10/dist-packages (from matplotlib->aif360) (3.2.0)\n",
            "Requirement already satisfied: six>=1.5 in /usr/local/lib/python3.10/dist-packages (from python-dateutil>=2.8.2->pandas>=0.24.0->aif360) (1.16.0)\n",
            "Downloading aif360-0.6.1-py3-none-any.whl (259 kB)\n",
            "\u001b[2K   \u001b[90m━━━━━━━━━━━━━━━━━━━━━━━━━━━━━━━━━━━━━━━━\u001b[0m \u001b[32m259.7/259.7 kB\u001b[0m \u001b[31m4.3 MB/s\u001b[0m eta \u001b[36m0:00:00\u001b[0m\n",
            "\u001b[?25hInstalling collected packages: aif360\n",
            "Successfully installed aif360-0.6.1\n"
          ]
        }
      ]
    },
    {
      "cell_type": "code",
      "execution_count": null,
      "metadata": {
        "id": "OCxoZ0epF2YV"
      },
      "outputs": [],
      "source": [
        "import pandas as pd\n",
        "import numpy as np\n",
        "import matplotlib.pyplot as plt\n",
        "import seaborn as sns\n",
        "from fairlearn.postprocessing import ThresholdOptimizer\n",
        "from aif360.datasets import StandardDataset\n",
        "from aif360.algorithms.preprocessing import Reweighing\n",
        "from aif360.algorithms.inprocessing import PrejudiceRemover\n",
        "from sklearn.model_selection import train_test_split, GridSearchCV\n",
        "from sklearn.linear_model import LogisticRegression\n",
        "from sklearn.metrics import accuracy_score, classification_report, confusion_matrix\n",
        "from sklearn.metrics import precision_score, recall_score, f1_score"
      ]
    },
    {
      "cell_type": "code",
      "source": [
        "df = pd.read_csv('compas-scores-two-years.csv')"
      ],
      "metadata": {
        "id": "5ERfarzRYcAj"
      },
      "execution_count": null,
      "outputs": []
    },
    {
      "cell_type": "code",
      "source": [
        "df2 = pd.read_csv('compas-scores-two-years.csv')"
      ],
      "metadata": {
        "id": "iML47GQ_ynQK"
      },
      "execution_count": null,
      "outputs": []
    },
    {
      "cell_type": "code",
      "source": [
        "df.info()"
      ],
      "metadata": {
        "id": "Fhl_qmgnr5Az",
        "outputId": "1f221b6a-1541-415f-fe03-3778d3b833bc",
        "colab": {
          "base_uri": "https://localhost:8080/"
        },
        "collapsed": true
      },
      "execution_count": null,
      "outputs": [
        {
          "output_type": "stream",
          "name": "stdout",
          "text": [
            "<class 'pandas.core.frame.DataFrame'>\n",
            "RangeIndex: 7214 entries, 0 to 7213\n",
            "Data columns (total 53 columns):\n",
            " #   Column                   Non-Null Count  Dtype  \n",
            "---  ------                   --------------  -----  \n",
            " 0   id                       7214 non-null   int64  \n",
            " 1   name                     7214 non-null   object \n",
            " 2   first                    7214 non-null   object \n",
            " 3   last                     7214 non-null   object \n",
            " 4   compas_screening_date    7214 non-null   object \n",
            " 5   sex                      7214 non-null   object \n",
            " 6   dob                      7214 non-null   object \n",
            " 7   age                      7214 non-null   int64  \n",
            " 8   age_cat                  7214 non-null   object \n",
            " 9   race                     7214 non-null   object \n",
            " 10  juv_fel_count            7214 non-null   int64  \n",
            " 11  decile_score             7214 non-null   int64  \n",
            " 12  juv_misd_count           7214 non-null   int64  \n",
            " 13  juv_other_count          7214 non-null   int64  \n",
            " 14  priors_count             7214 non-null   int64  \n",
            " 15  days_b_screening_arrest  6907 non-null   float64\n",
            " 16  c_jail_in                6907 non-null   object \n",
            " 17  c_jail_out               6907 non-null   object \n",
            " 18  c_case_number            7192 non-null   object \n",
            " 19  c_offense_date           6055 non-null   object \n",
            " 20  c_arrest_date            1137 non-null   object \n",
            " 21  c_days_from_compas       7192 non-null   float64\n",
            " 22  c_charge_degree          7214 non-null   object \n",
            " 23  c_charge_desc            7185 non-null   object \n",
            " 24  is_recid                 7214 non-null   int64  \n",
            " 25  r_case_number            3471 non-null   object \n",
            " 26  r_charge_degree          3471 non-null   object \n",
            " 27  r_days_from_arrest       2316 non-null   float64\n",
            " 28  r_offense_date           3471 non-null   object \n",
            " 29  r_charge_desc            3413 non-null   object \n",
            " 30  r_jail_in                2316 non-null   object \n",
            " 31  r_jail_out               2316 non-null   object \n",
            " 32  violent_recid            0 non-null      float64\n",
            " 33  is_violent_recid         7214 non-null   int64  \n",
            " 34  vr_case_number           819 non-null    object \n",
            " 35  vr_charge_degree         819 non-null    object \n",
            " 36  vr_offense_date          819 non-null    object \n",
            " 37  vr_charge_desc           819 non-null    object \n",
            " 38  type_of_assessment       7214 non-null   object \n",
            " 39  decile_score.1           7214 non-null   int64  \n",
            " 40  score_text               7214 non-null   object \n",
            " 41  screening_date           7214 non-null   object \n",
            " 42  v_type_of_assessment     7214 non-null   object \n",
            " 43  v_decile_score           7214 non-null   int64  \n",
            " 44  v_score_text             7214 non-null   object \n",
            " 45  v_screening_date         7214 non-null   object \n",
            " 46  in_custody               6978 non-null   object \n",
            " 47  out_custody              6978 non-null   object \n",
            " 48  priors_count.1           7214 non-null   int64  \n",
            " 49  start                    7214 non-null   int64  \n",
            " 50  end                      7214 non-null   int64  \n",
            " 51  event                    7214 non-null   int64  \n",
            " 52  two_year_recid           7214 non-null   int64  \n",
            "dtypes: float64(4), int64(16), object(33)\n",
            "memory usage: 2.9+ MB\n"
          ]
        }
      ]
    },
    {
      "cell_type": "code",
      "source": [
        "df['decile_score'].unique()"
      ],
      "metadata": {
        "colab": {
          "base_uri": "https://localhost:8080/"
        },
        "id": "rfU7eVB_YoTC",
        "outputId": "cd19d6d7-29cb-4547-b719-eb635b5cc536"
      },
      "execution_count": null,
      "outputs": [
        {
          "output_type": "execute_result",
          "data": {
            "text/plain": [
              "array([ 4,  2,  1,  3,  8,  7,  6, 10,  9,  5])"
            ]
          },
          "metadata": {},
          "execution_count": 23
        }
      ]
    },
    {
      "cell_type": "markdown",
      "source": [
        "# Data Cleaning"
      ],
      "metadata": {
        "id": "6PCj_D_daB5s"
      }
    },
    {
      "cell_type": "code",
      "source": [
        "columns = [\n",
        "    'sex',\n",
        "    'age',\n",
        "    'race',\n",
        "    'age_cat',  # Opcional\n",
        "    'juv_fel_count',\n",
        "    'juv_misd_count',\n",
        "    'juv_other_count',\n",
        "    'priors_count',\n",
        "    'c_charge_degree',\n",
        "    'c_charge_desc',\n",
        "    'decile_score',\n",
        "    'score_text',\n",
        "    'two_year_recid'\n",
        "]\n",
        "\n",
        "df = df[columns]"
      ],
      "metadata": {
        "id": "P_K9T5Tx0c6C"
      },
      "execution_count": null,
      "outputs": []
    },
    {
      "cell_type": "code",
      "source": [
        "df.info()"
      ],
      "metadata": {
        "colab": {
          "base_uri": "https://localhost:8080/"
        },
        "id": "XBhDSCTE0mvl",
        "outputId": "46808138-b1cc-44ad-b75c-ae22868139f5"
      },
      "execution_count": null,
      "outputs": [
        {
          "output_type": "stream",
          "name": "stdout",
          "text": [
            "<class 'pandas.core.frame.DataFrame'>\n",
            "RangeIndex: 7214 entries, 0 to 7213\n",
            "Data columns (total 13 columns):\n",
            " #   Column           Non-Null Count  Dtype \n",
            "---  ------           --------------  ----- \n",
            " 0   sex              7214 non-null   object\n",
            " 1   age              7214 non-null   int64 \n",
            " 2   race             7214 non-null   object\n",
            " 3   age_cat          7214 non-null   object\n",
            " 4   juv_fel_count    7214 non-null   int64 \n",
            " 5   juv_misd_count   7214 non-null   int64 \n",
            " 6   juv_other_count  7214 non-null   int64 \n",
            " 7   priors_count     7214 non-null   int64 \n",
            " 8   c_charge_degree  7214 non-null   object\n",
            " 9   c_charge_desc    7185 non-null   object\n",
            " 10  decile_score     7214 non-null   int64 \n",
            " 11  score_text       7214 non-null   object\n",
            " 12  two_year_recid   7214 non-null   int64 \n",
            "dtypes: int64(7), object(6)\n",
            "memory usage: 732.8+ KB\n"
          ]
        }
      ]
    },
    {
      "cell_type": "code",
      "source": [
        "df.head(5)"
      ],
      "metadata": {
        "colab": {
          "base_uri": "https://localhost:8080/",
          "height": 330
        },
        "collapsed": true,
        "id": "oAAzEBow1O54",
        "outputId": "d0687dbd-26a0-4402-a2d1-afb71c96226c"
      },
      "execution_count": null,
      "outputs": [
        {
          "output_type": "execute_result",
          "data": {
            "text/plain": [
              "    sex  age              race          age_cat  juv_fel_count  \\\n",
              "0  Male   69             Other  Greater than 45              0   \n",
              "1  Male   34  African-American          25 - 45              0   \n",
              "2  Male   24  African-American     Less than 25              0   \n",
              "3  Male   23  African-American     Less than 25              0   \n",
              "4  Male   43             Other          25 - 45              0   \n",
              "\n",
              "   juv_misd_count  juv_other_count  priors_count c_charge_degree  \\\n",
              "0               0                0             0               F   \n",
              "1               0                0             0               F   \n",
              "2               0                1             4               F   \n",
              "3               1                0             1               F   \n",
              "4               0                0             2               F   \n",
              "\n",
              "                    c_charge_desc  decile_score score_text  two_year_recid  \n",
              "0    Aggravated Assault w/Firearm             1        Low               0  \n",
              "1  Felony Battery w/Prior Convict             3        Low               1  \n",
              "2           Possession of Cocaine             4        Low               1  \n",
              "3          Possession of Cannabis             8       High               0  \n",
              "4           arrest case no charge             1        Low               0  "
            ],
            "text/html": [
              "\n",
              "  <div id=\"df-da48c016-fa0b-4178-92f4-ec60087fc1d8\" class=\"colab-df-container\">\n",
              "    <div>\n",
              "<style scoped>\n",
              "    .dataframe tbody tr th:only-of-type {\n",
              "        vertical-align: middle;\n",
              "    }\n",
              "\n",
              "    .dataframe tbody tr th {\n",
              "        vertical-align: top;\n",
              "    }\n",
              "\n",
              "    .dataframe thead th {\n",
              "        text-align: right;\n",
              "    }\n",
              "</style>\n",
              "<table border=\"1\" class=\"dataframe\">\n",
              "  <thead>\n",
              "    <tr style=\"text-align: right;\">\n",
              "      <th></th>\n",
              "      <th>sex</th>\n",
              "      <th>age</th>\n",
              "      <th>race</th>\n",
              "      <th>age_cat</th>\n",
              "      <th>juv_fel_count</th>\n",
              "      <th>juv_misd_count</th>\n",
              "      <th>juv_other_count</th>\n",
              "      <th>priors_count</th>\n",
              "      <th>c_charge_degree</th>\n",
              "      <th>c_charge_desc</th>\n",
              "      <th>decile_score</th>\n",
              "      <th>score_text</th>\n",
              "      <th>two_year_recid</th>\n",
              "    </tr>\n",
              "  </thead>\n",
              "  <tbody>\n",
              "    <tr>\n",
              "      <th>0</th>\n",
              "      <td>Male</td>\n",
              "      <td>69</td>\n",
              "      <td>Other</td>\n",
              "      <td>Greater than 45</td>\n",
              "      <td>0</td>\n",
              "      <td>0</td>\n",
              "      <td>0</td>\n",
              "      <td>0</td>\n",
              "      <td>F</td>\n",
              "      <td>Aggravated Assault w/Firearm</td>\n",
              "      <td>1</td>\n",
              "      <td>Low</td>\n",
              "      <td>0</td>\n",
              "    </tr>\n",
              "    <tr>\n",
              "      <th>1</th>\n",
              "      <td>Male</td>\n",
              "      <td>34</td>\n",
              "      <td>African-American</td>\n",
              "      <td>25 - 45</td>\n",
              "      <td>0</td>\n",
              "      <td>0</td>\n",
              "      <td>0</td>\n",
              "      <td>0</td>\n",
              "      <td>F</td>\n",
              "      <td>Felony Battery w/Prior Convict</td>\n",
              "      <td>3</td>\n",
              "      <td>Low</td>\n",
              "      <td>1</td>\n",
              "    </tr>\n",
              "    <tr>\n",
              "      <th>2</th>\n",
              "      <td>Male</td>\n",
              "      <td>24</td>\n",
              "      <td>African-American</td>\n",
              "      <td>Less than 25</td>\n",
              "      <td>0</td>\n",
              "      <td>0</td>\n",
              "      <td>1</td>\n",
              "      <td>4</td>\n",
              "      <td>F</td>\n",
              "      <td>Possession of Cocaine</td>\n",
              "      <td>4</td>\n",
              "      <td>Low</td>\n",
              "      <td>1</td>\n",
              "    </tr>\n",
              "    <tr>\n",
              "      <th>3</th>\n",
              "      <td>Male</td>\n",
              "      <td>23</td>\n",
              "      <td>African-American</td>\n",
              "      <td>Less than 25</td>\n",
              "      <td>0</td>\n",
              "      <td>1</td>\n",
              "      <td>0</td>\n",
              "      <td>1</td>\n",
              "      <td>F</td>\n",
              "      <td>Possession of Cannabis</td>\n",
              "      <td>8</td>\n",
              "      <td>High</td>\n",
              "      <td>0</td>\n",
              "    </tr>\n",
              "    <tr>\n",
              "      <th>4</th>\n",
              "      <td>Male</td>\n",
              "      <td>43</td>\n",
              "      <td>Other</td>\n",
              "      <td>25 - 45</td>\n",
              "      <td>0</td>\n",
              "      <td>0</td>\n",
              "      <td>0</td>\n",
              "      <td>2</td>\n",
              "      <td>F</td>\n",
              "      <td>arrest case no charge</td>\n",
              "      <td>1</td>\n",
              "      <td>Low</td>\n",
              "      <td>0</td>\n",
              "    </tr>\n",
              "  </tbody>\n",
              "</table>\n",
              "</div>\n",
              "    <div class=\"colab-df-buttons\">\n",
              "\n",
              "  <div class=\"colab-df-container\">\n",
              "    <button class=\"colab-df-convert\" onclick=\"convertToInteractive('df-da48c016-fa0b-4178-92f4-ec60087fc1d8')\"\n",
              "            title=\"Convert this dataframe to an interactive table.\"\n",
              "            style=\"display:none;\">\n",
              "\n",
              "  <svg xmlns=\"http://www.w3.org/2000/svg\" height=\"24px\" viewBox=\"0 -960 960 960\">\n",
              "    <path d=\"M120-120v-720h720v720H120Zm60-500h600v-160H180v160Zm220 220h160v-160H400v160Zm0 220h160v-160H400v160ZM180-400h160v-160H180v160Zm440 0h160v-160H620v160ZM180-180h160v-160H180v160Zm440 0h160v-160H620v160Z\"/>\n",
              "  </svg>\n",
              "    </button>\n",
              "\n",
              "  <style>\n",
              "    .colab-df-container {\n",
              "      display:flex;\n",
              "      gap: 12px;\n",
              "    }\n",
              "\n",
              "    .colab-df-convert {\n",
              "      background-color: #E8F0FE;\n",
              "      border: none;\n",
              "      border-radius: 50%;\n",
              "      cursor: pointer;\n",
              "      display: none;\n",
              "      fill: #1967D2;\n",
              "      height: 32px;\n",
              "      padding: 0 0 0 0;\n",
              "      width: 32px;\n",
              "    }\n",
              "\n",
              "    .colab-df-convert:hover {\n",
              "      background-color: #E2EBFA;\n",
              "      box-shadow: 0px 1px 2px rgba(60, 64, 67, 0.3), 0px 1px 3px 1px rgba(60, 64, 67, 0.15);\n",
              "      fill: #174EA6;\n",
              "    }\n",
              "\n",
              "    .colab-df-buttons div {\n",
              "      margin-bottom: 4px;\n",
              "    }\n",
              "\n",
              "    [theme=dark] .colab-df-convert {\n",
              "      background-color: #3B4455;\n",
              "      fill: #D2E3FC;\n",
              "    }\n",
              "\n",
              "    [theme=dark] .colab-df-convert:hover {\n",
              "      background-color: #434B5C;\n",
              "      box-shadow: 0px 1px 3px 1px rgba(0, 0, 0, 0.15);\n",
              "      filter: drop-shadow(0px 1px 2px rgba(0, 0, 0, 0.3));\n",
              "      fill: #FFFFFF;\n",
              "    }\n",
              "  </style>\n",
              "\n",
              "    <script>\n",
              "      const buttonEl =\n",
              "        document.querySelector('#df-da48c016-fa0b-4178-92f4-ec60087fc1d8 button.colab-df-convert');\n",
              "      buttonEl.style.display =\n",
              "        google.colab.kernel.accessAllowed ? 'block' : 'none';\n",
              "\n",
              "      async function convertToInteractive(key) {\n",
              "        const element = document.querySelector('#df-da48c016-fa0b-4178-92f4-ec60087fc1d8');\n",
              "        const dataTable =\n",
              "          await google.colab.kernel.invokeFunction('convertToInteractive',\n",
              "                                                    [key], {});\n",
              "        if (!dataTable) return;\n",
              "\n",
              "        const docLinkHtml = 'Like what you see? Visit the ' +\n",
              "          '<a target=\"_blank\" href=https://colab.research.google.com/notebooks/data_table.ipynb>data table notebook</a>'\n",
              "          + ' to learn more about interactive tables.';\n",
              "        element.innerHTML = '';\n",
              "        dataTable['output_type'] = 'display_data';\n",
              "        await google.colab.output.renderOutput(dataTable, element);\n",
              "        const docLink = document.createElement('div');\n",
              "        docLink.innerHTML = docLinkHtml;\n",
              "        element.appendChild(docLink);\n",
              "      }\n",
              "    </script>\n",
              "  </div>\n",
              "\n",
              "\n",
              "<div id=\"df-3ee0d098-0553-432c-a1c7-eca07886556c\">\n",
              "  <button class=\"colab-df-quickchart\" onclick=\"quickchart('df-3ee0d098-0553-432c-a1c7-eca07886556c')\"\n",
              "            title=\"Suggest charts\"\n",
              "            style=\"display:none;\">\n",
              "\n",
              "<svg xmlns=\"http://www.w3.org/2000/svg\" height=\"24px\"viewBox=\"0 0 24 24\"\n",
              "     width=\"24px\">\n",
              "    <g>\n",
              "        <path d=\"M19 3H5c-1.1 0-2 .9-2 2v14c0 1.1.9 2 2 2h14c1.1 0 2-.9 2-2V5c0-1.1-.9-2-2-2zM9 17H7v-7h2v7zm4 0h-2V7h2v10zm4 0h-2v-4h2v4z\"/>\n",
              "    </g>\n",
              "</svg>\n",
              "  </button>\n",
              "\n",
              "<style>\n",
              "  .colab-df-quickchart {\n",
              "      --bg-color: #E8F0FE;\n",
              "      --fill-color: #1967D2;\n",
              "      --hover-bg-color: #E2EBFA;\n",
              "      --hover-fill-color: #174EA6;\n",
              "      --disabled-fill-color: #AAA;\n",
              "      --disabled-bg-color: #DDD;\n",
              "  }\n",
              "\n",
              "  [theme=dark] .colab-df-quickchart {\n",
              "      --bg-color: #3B4455;\n",
              "      --fill-color: #D2E3FC;\n",
              "      --hover-bg-color: #434B5C;\n",
              "      --hover-fill-color: #FFFFFF;\n",
              "      --disabled-bg-color: #3B4455;\n",
              "      --disabled-fill-color: #666;\n",
              "  }\n",
              "\n",
              "  .colab-df-quickchart {\n",
              "    background-color: var(--bg-color);\n",
              "    border: none;\n",
              "    border-radius: 50%;\n",
              "    cursor: pointer;\n",
              "    display: none;\n",
              "    fill: var(--fill-color);\n",
              "    height: 32px;\n",
              "    padding: 0;\n",
              "    width: 32px;\n",
              "  }\n",
              "\n",
              "  .colab-df-quickchart:hover {\n",
              "    background-color: var(--hover-bg-color);\n",
              "    box-shadow: 0 1px 2px rgba(60, 64, 67, 0.3), 0 1px 3px 1px rgba(60, 64, 67, 0.15);\n",
              "    fill: var(--button-hover-fill-color);\n",
              "  }\n",
              "\n",
              "  .colab-df-quickchart-complete:disabled,\n",
              "  .colab-df-quickchart-complete:disabled:hover {\n",
              "    background-color: var(--disabled-bg-color);\n",
              "    fill: var(--disabled-fill-color);\n",
              "    box-shadow: none;\n",
              "  }\n",
              "\n",
              "  .colab-df-spinner {\n",
              "    border: 2px solid var(--fill-color);\n",
              "    border-color: transparent;\n",
              "    border-bottom-color: var(--fill-color);\n",
              "    animation:\n",
              "      spin 1s steps(1) infinite;\n",
              "  }\n",
              "\n",
              "  @keyframes spin {\n",
              "    0% {\n",
              "      border-color: transparent;\n",
              "      border-bottom-color: var(--fill-color);\n",
              "      border-left-color: var(--fill-color);\n",
              "    }\n",
              "    20% {\n",
              "      border-color: transparent;\n",
              "      border-left-color: var(--fill-color);\n",
              "      border-top-color: var(--fill-color);\n",
              "    }\n",
              "    30% {\n",
              "      border-color: transparent;\n",
              "      border-left-color: var(--fill-color);\n",
              "      border-top-color: var(--fill-color);\n",
              "      border-right-color: var(--fill-color);\n",
              "    }\n",
              "    40% {\n",
              "      border-color: transparent;\n",
              "      border-right-color: var(--fill-color);\n",
              "      border-top-color: var(--fill-color);\n",
              "    }\n",
              "    60% {\n",
              "      border-color: transparent;\n",
              "      border-right-color: var(--fill-color);\n",
              "    }\n",
              "    80% {\n",
              "      border-color: transparent;\n",
              "      border-right-color: var(--fill-color);\n",
              "      border-bottom-color: var(--fill-color);\n",
              "    }\n",
              "    90% {\n",
              "      border-color: transparent;\n",
              "      border-bottom-color: var(--fill-color);\n",
              "    }\n",
              "  }\n",
              "</style>\n",
              "\n",
              "  <script>\n",
              "    async function quickchart(key) {\n",
              "      const quickchartButtonEl =\n",
              "        document.querySelector('#' + key + ' button');\n",
              "      quickchartButtonEl.disabled = true;  // To prevent multiple clicks.\n",
              "      quickchartButtonEl.classList.add('colab-df-spinner');\n",
              "      try {\n",
              "        const charts = await google.colab.kernel.invokeFunction(\n",
              "            'suggestCharts', [key], {});\n",
              "      } catch (error) {\n",
              "        console.error('Error during call to suggestCharts:', error);\n",
              "      }\n",
              "      quickchartButtonEl.classList.remove('colab-df-spinner');\n",
              "      quickchartButtonEl.classList.add('colab-df-quickchart-complete');\n",
              "    }\n",
              "    (() => {\n",
              "      let quickchartButtonEl =\n",
              "        document.querySelector('#df-3ee0d098-0553-432c-a1c7-eca07886556c button');\n",
              "      quickchartButtonEl.style.display =\n",
              "        google.colab.kernel.accessAllowed ? 'block' : 'none';\n",
              "    })();\n",
              "  </script>\n",
              "</div>\n",
              "\n",
              "    </div>\n",
              "  </div>\n"
            ],
            "application/vnd.google.colaboratory.intrinsic+json": {
              "type": "dataframe",
              "variable_name": "df",
              "summary": "{\n  \"name\": \"df\",\n  \"rows\": 7214,\n  \"fields\": [\n    {\n      \"column\": \"sex\",\n      \"properties\": {\n        \"dtype\": \"category\",\n        \"num_unique_values\": 2,\n        \"samples\": [\n          \"Female\",\n          \"Male\"\n        ],\n        \"semantic_type\": \"\",\n        \"description\": \"\"\n      }\n    },\n    {\n      \"column\": \"age\",\n      \"properties\": {\n        \"dtype\": \"number\",\n        \"std\": 11,\n        \"min\": 18,\n        \"max\": 96,\n        \"num_unique_values\": 65,\n        \"samples\": [\n          83,\n          18\n        ],\n        \"semantic_type\": \"\",\n        \"description\": \"\"\n      }\n    },\n    {\n      \"column\": \"race\",\n      \"properties\": {\n        \"dtype\": \"category\",\n        \"num_unique_values\": 6,\n        \"samples\": [\n          \"Other\",\n          \"African-American\"\n        ],\n        \"semantic_type\": \"\",\n        \"description\": \"\"\n      }\n    },\n    {\n      \"column\": \"age_cat\",\n      \"properties\": {\n        \"dtype\": \"category\",\n        \"num_unique_values\": 3,\n        \"samples\": [\n          \"Greater than 45\",\n          \"25 - 45\"\n        ],\n        \"semantic_type\": \"\",\n        \"description\": \"\"\n      }\n    },\n    {\n      \"column\": \"juv_fel_count\",\n      \"properties\": {\n        \"dtype\": \"number\",\n        \"std\": 0,\n        \"min\": 0,\n        \"max\": 20,\n        \"num_unique_values\": 11,\n        \"samples\": [\n          3,\n          0\n        ],\n        \"semantic_type\": \"\",\n        \"description\": \"\"\n      }\n    },\n    {\n      \"column\": \"juv_misd_count\",\n      \"properties\": {\n        \"dtype\": \"number\",\n        \"std\": 0,\n        \"min\": 0,\n        \"max\": 13,\n        \"num_unique_values\": 10,\n        \"samples\": [\n          5,\n          1\n        ],\n        \"semantic_type\": \"\",\n        \"description\": \"\"\n      }\n    },\n    {\n      \"column\": \"juv_other_count\",\n      \"properties\": {\n        \"dtype\": \"number\",\n        \"std\": 0,\n        \"min\": 0,\n        \"max\": 17,\n        \"num_unique_values\": 10,\n        \"samples\": [\n          6,\n          1\n        ],\n        \"semantic_type\": \"\",\n        \"description\": \"\"\n      }\n    },\n    {\n      \"column\": \"priors_count\",\n      \"properties\": {\n        \"dtype\": \"number\",\n        \"std\": 4,\n        \"min\": 0,\n        \"max\": 38,\n        \"num_unique_values\": 37,\n        \"samples\": [\n          28,\n          20\n        ],\n        \"semantic_type\": \"\",\n        \"description\": \"\"\n      }\n    },\n    {\n      \"column\": \"c_charge_degree\",\n      \"properties\": {\n        \"dtype\": \"category\",\n        \"num_unique_values\": 2,\n        \"samples\": [\n          \"M\",\n          \"F\"\n        ],\n        \"semantic_type\": \"\",\n        \"description\": \"\"\n      }\n    },\n    {\n      \"column\": \"c_charge_desc\",\n      \"properties\": {\n        \"dtype\": \"category\",\n        \"num_unique_values\": 437,\n        \"samples\": [\n          \"Possession Firearm School Prop\",\n          \"Leaving Acc/Unattended Veh\"\n        ],\n        \"semantic_type\": \"\",\n        \"description\": \"\"\n      }\n    },\n    {\n      \"column\": \"decile_score\",\n      \"properties\": {\n        \"dtype\": \"number\",\n        \"std\": 2,\n        \"min\": 1,\n        \"max\": 10,\n        \"num_unique_values\": 10,\n        \"samples\": [\n          2,\n          3\n        ],\n        \"semantic_type\": \"\",\n        \"description\": \"\"\n      }\n    },\n    {\n      \"column\": \"score_text\",\n      \"properties\": {\n        \"dtype\": \"category\",\n        \"num_unique_values\": 3,\n        \"samples\": [\n          \"Low\",\n          \"High\"\n        ],\n        \"semantic_type\": \"\",\n        \"description\": \"\"\n      }\n    },\n    {\n      \"column\": \"two_year_recid\",\n      \"properties\": {\n        \"dtype\": \"number\",\n        \"std\": 0,\n        \"min\": 0,\n        \"max\": 1,\n        \"num_unique_values\": 2,\n        \"samples\": [\n          1,\n          0\n        ],\n        \"semantic_type\": \"\",\n        \"description\": \"\"\n      }\n    }\n  ]\n}"
            }
          },
          "metadata": {},
          "execution_count": 11
        }
      ]
    },
    {
      "cell_type": "markdown",
      "source": [
        "EDA"
      ],
      "metadata": {
        "id": "-nVP9myG__rW"
      }
    },
    {
      "cell_type": "code",
      "source": [
        "df['score_text'].unique()"
      ],
      "metadata": {
        "colab": {
          "base_uri": "https://localhost:8080/"
        },
        "id": "8VgP1UIQ07gw",
        "outputId": "09edc95f-27c1-41d4-af35-3c61c371b981"
      },
      "execution_count": null,
      "outputs": [
        {
          "output_type": "execute_result",
          "data": {
            "text/plain": [
              "array(['Low', 'High', 'Medium'], dtype=object)"
            ]
          },
          "metadata": {},
          "execution_count": 10
        }
      ]
    },
    {
      "cell_type": "code",
      "source": [
        "df['c_charge_desc'].nunique()"
      ],
      "metadata": {
        "colab": {
          "base_uri": "https://localhost:8080/"
        },
        "id": "pDuc6I6i_NsS",
        "outputId": "c6d9b36a-6fb1-4b30-ae6b-19162c7408fc"
      },
      "execution_count": null,
      "outputs": [
        {
          "output_type": "execute_result",
          "data": {
            "text/plain": [
              "437"
            ]
          },
          "metadata": {},
          "execution_count": 13
        }
      ]
    },
    {
      "cell_type": "code",
      "source": [
        "df['c_charge_degree'].unique()"
      ],
      "metadata": {
        "colab": {
          "base_uri": "https://localhost:8080/"
        },
        "id": "tC_8n77z_Vrf",
        "outputId": "c4cbd6a9-3d72-48db-aa50-360c7a51bf56"
      },
      "execution_count": null,
      "outputs": [
        {
          "output_type": "execute_result",
          "data": {
            "text/plain": [
              "array(['F', 'M'], dtype=object)"
            ]
          },
          "metadata": {},
          "execution_count": 15
        }
      ]
    },
    {
      "cell_type": "code",
      "source": [
        "df['c_charge_degree'].unique()"
      ],
      "metadata": {
        "id": "52GbQSPO_iqM"
      },
      "execution_count": null,
      "outputs": []
    },
    {
      "cell_type": "code",
      "source": [
        "df['priors_count'].unique()"
      ],
      "metadata": {
        "colab": {
          "base_uri": "https://localhost:8080/"
        },
        "id": "xk5bKcr8__MC",
        "outputId": "8f8db843-797d-4edf-e0fb-0e705ec8a5cd"
      },
      "execution_count": null,
      "outputs": [
        {
          "output_type": "execute_result",
          "data": {
            "text/plain": [
              "array([ 0,  4,  1,  2, 14,  3,  7,  6,  5, 13,  8,  9, 21, 20, 15, 10, 12,\n",
              "       28, 19, 11, 22, 23, 25, 24, 36, 18, 16, 33, 17, 30, 27, 38, 26, 37,\n",
              "       29, 35, 31])"
            ]
          },
          "metadata": {},
          "execution_count": 16
        }
      ]
    },
    {
      "cell_type": "code",
      "source": [
        "df['age_cat'].unique()"
      ],
      "metadata": {
        "colab": {
          "base_uri": "https://localhost:8080/"
        },
        "id": "5MGLJm5nDQVr",
        "outputId": "38ce2a4c-2ef9-4aef-f68d-df4185dbefa5"
      },
      "execution_count": null,
      "outputs": [
        {
          "output_type": "execute_result",
          "data": {
            "text/plain": [
              "array(['Greater than 45', '25 - 45', 'Less than 25'], dtype=object)"
            ]
          },
          "metadata": {},
          "execution_count": 19
        }
      ]
    },
    {
      "cell_type": "code",
      "source": [
        "df['race'].unique()"
      ],
      "metadata": {
        "colab": {
          "base_uri": "https://localhost:8080/"
        },
        "id": "JaATbcQSDGkl",
        "outputId": "ead9b8f4-eb0d-4067-b6d8-f548311e71d3"
      },
      "execution_count": null,
      "outputs": [
        {
          "output_type": "execute_result",
          "data": {
            "text/plain": [
              "array(['Other', 'African-American', 'Caucasian', 'Hispanic',\n",
              "       'Native American', 'Asian'], dtype=object)"
            ]
          },
          "metadata": {},
          "execution_count": 42
        }
      ]
    },
    {
      "cell_type": "code",
      "source": [
        "# Group by age_cat and race, calculate recidivism rate\n",
        "recid_by_agecat_race = df.groupby(['age_cat', 'race'])['two_year_recid'].mean().reset_index()\n",
        "\n",
        "# Plot the recidivism rates across age categories\n",
        "plt.figure(figsize=(8, 6))\n",
        "sns.barplot(data=recid_by_agecat_race, x='age_cat', y='two_year_recid', hue='race')\n",
        "plt.title('Recidivism Rates by Age Category and Race')\n",
        "plt.ylabel('Recidivism Rate')\n",
        "plt.xlabel('Age Category')\n",
        "plt.legend(title='Race')\n",
        "plt.tight_layout()\n",
        "plt.show()"
      ],
      "metadata": {
        "colab": {
          "base_uri": "https://localhost:8080/",
          "height": 664
        },
        "collapsed": true,
        "id": "6TqLOi-MEUeR",
        "outputId": "885fe3af-f69d-4307-d4f9-a5a4c313dd9c"
      },
      "execution_count": null,
      "outputs": [
        {
          "output_type": "stream",
          "name": "stderr",
          "text": [
            "<ipython-input-22-448c3d1beb2f>:2: FutureWarning: The default of observed=False is deprecated and will be changed to True in a future version of pandas. Pass observed=False to retain current behavior or observed=True to adopt the future default and silence this warning.\n",
            "  recid_by_agecat_race = df.groupby(['age_cat', 'race'])['two_year_recid'].mean().reset_index()\n"
          ]
        },
        {
          "output_type": "display_data",
          "data": {
            "text/plain": [
              "<Figure size 800x600 with 1 Axes>"
            ],
            "image/png": "[encoded data removed]"
          },
          "metadata": {}
        }
      ]
    },
    {
      "cell_type": "code",
      "source": [
        "df.info()"
      ],
      "metadata": {
        "colab": {
          "base_uri": "https://localhost:8080/"
        },
        "id": "fGyxFNpHEl36",
        "outputId": "562472bc-77c3-4fb7-d1e3-439201fc759d"
      },
      "execution_count": null,
      "outputs": [
        {
          "output_type": "stream",
          "name": "stdout",
          "text": [
            "<class 'pandas.core.frame.DataFrame'>\n",
            "RangeIndex: 7214 entries, 0 to 7213\n",
            "Data columns (total 13 columns):\n",
            " #   Column           Non-Null Count  Dtype \n",
            "---  ------           --------------  ----- \n",
            " 0   sex              7214 non-null   object\n",
            " 1   age              7214 non-null   int64 \n",
            " 2   race             7214 non-null   object\n",
            " 3   age_cat          7214 non-null   object\n",
            " 4   juv_fel_count    7214 non-null   int64 \n",
            " 5   juv_misd_count   7214 non-null   int64 \n",
            " 6   juv_other_count  7214 non-null   int64 \n",
            " 7   priors_count     7214 non-null   int64 \n",
            " 8   c_charge_degree  7214 non-null   object\n",
            " 9   c_charge_desc    7185 non-null   object\n",
            " 10  decile_score     7214 non-null   int64 \n",
            " 11  score_text       7214 non-null   object\n",
            " 12  two_year_recid   7214 non-null   int64 \n",
            "dtypes: int64(7), object(6)\n",
            "memory usage: 732.8+ KB\n"
          ]
        }
      ]
    },
    {
      "cell_type": "code",
      "source": [
        "df.head(2)"
      ],
      "metadata": {
        "colab": {
          "base_uri": "https://localhost:8080/",
          "height": 167
        },
        "id": "AX_2fsi7Emop",
        "outputId": "9acd8edf-cafd-4e61-ba5f-3727d7d9159c"
      },
      "execution_count": null,
      "outputs": [
        {
          "output_type": "execute_result",
          "data": {
            "text/plain": [
              "    sex              race          age_cat  juv_fel_count  juv_misd_count  \\\n",
              "0  Male             Other  Greater than 45              0               0   \n",
              "1  Male  African-American          25 - 45              0               0   \n",
              "\n",
              "   juv_other_count  priors_count c_charge_degree  decile_score score_text  \\\n",
              "0                0             0               F             1        Low   \n",
              "1                0             0               F             3        Low   \n",
              "\n",
              "   two_year_recid  \n",
              "0               0  \n",
              "1               1  "
            ],
            "text/html": [
              "\n",
              "  <div id=\"df-d2451ee2-9754-4159-bda3-3e7ea1cd66dd\" class=\"colab-df-container\">\n",
              "    <div>\n",
              "<style scoped>\n",
              "    .dataframe tbody tr th:only-of-type {\n",
              "        vertical-align: middle;\n",
              "    }\n",
              "\n",
              "    .dataframe tbody tr th {\n",
              "        vertical-align: top;\n",
              "    }\n",
              "\n",
              "    .dataframe thead th {\n",
              "        text-align: right;\n",
              "    }\n",
              "</style>\n",
              "<table border=\"1\" class=\"dataframe\">\n",
              "  <thead>\n",
              "    <tr style=\"text-align: right;\">\n",
              "      <th></th>\n",
              "      <th>sex</th>\n",
              "      <th>race</th>\n",
              "      <th>age_cat</th>\n",
              "      <th>juv_fel_count</th>\n",
              "      <th>juv_misd_count</th>\n",
              "      <th>juv_other_count</th>\n",
              "      <th>priors_count</th>\n",
              "      <th>c_charge_degree</th>\n",
              "      <th>decile_score</th>\n",
              "      <th>score_text</th>\n",
              "      <th>two_year_recid</th>\n",
              "    </tr>\n",
              "  </thead>\n",
              "  <tbody>\n",
              "    <tr>\n",
              "      <th>0</th>\n",
              "      <td>Male</td>\n",
              "      <td>Other</td>\n",
              "      <td>Greater than 45</td>\n",
              "      <td>0</td>\n",
              "      <td>0</td>\n",
              "      <td>0</td>\n",
              "      <td>0</td>\n",
              "      <td>F</td>\n",
              "      <td>1</td>\n",
              "      <td>Low</td>\n",
              "      <td>0</td>\n",
              "    </tr>\n",
              "    <tr>\n",
              "      <th>1</th>\n",
              "      <td>Male</td>\n",
              "      <td>African-American</td>\n",
              "      <td>25 - 45</td>\n",
              "      <td>0</td>\n",
              "      <td>0</td>\n",
              "      <td>0</td>\n",
              "      <td>0</td>\n",
              "      <td>F</td>\n",
              "      <td>3</td>\n",
              "      <td>Low</td>\n",
              "      <td>1</td>\n",
              "    </tr>\n",
              "  </tbody>\n",
              "</table>\n",
              "</div>\n",
              "    <div class=\"colab-df-buttons\">\n",
              "\n",
              "  <div class=\"colab-df-container\">\n",
              "    <button class=\"colab-df-convert\" onclick=\"convertToInteractive('df-d2451ee2-9754-4159-bda3-3e7ea1cd66dd')\"\n",
              "            title=\"Convert this dataframe to an interactive table.\"\n",
              "            style=\"display:none;\">\n",
              "\n",
              "  <svg xmlns=\"http://www.w3.org/2000/svg\" height=\"24px\" viewBox=\"0 -960 960 960\">\n",
              "    <path d=\"M120-120v-720h720v720H120Zm60-500h600v-160H180v160Zm220 220h160v-160H400v160Zm0 220h160v-160H400v160ZM180-400h160v-160H180v160Zm440 0h160v-160H620v160ZM180-180h160v-160H180v160Zm440 0h160v-160H620v160Z\"/>\n",
              "  </svg>\n",
              "    </button>\n",
              "\n",
              "  <style>\n",
              "    .colab-df-container {\n",
              "      display:flex;\n",
              "      gap: 12px;\n",
              "    }\n",
              "\n",
              "    .colab-df-convert {\n",
              "      background-color: #E8F0FE;\n",
              "      border: none;\n",
              "      border-radius: 50%;\n",
              "      cursor: pointer;\n",
              "      display: none;\n",
              "      fill: #1967D2;\n",
              "      height: 32px;\n",
              "      padding: 0 0 0 0;\n",
              "      width: 32px;\n",
              "    }\n",
              "\n",
              "    .colab-df-convert:hover {\n",
              "      background-color: #E2EBFA;\n",
              "      box-shadow: 0px 1px 2px rgba(60, 64, 67, 0.3), 0px 1px 3px 1px rgba(60, 64, 67, 0.15);\n",
              "      fill: #174EA6;\n",
              "    }\n",
              "\n",
              "    .colab-df-buttons div {\n",
              "      margin-bottom: 4px;\n",
              "    }\n",
              "\n",
              "    [theme=dark] .colab-df-convert {\n",
              "      background-color: #3B4455;\n",
              "      fill: #D2E3FC;\n",
              "    }\n",
              "\n",
              "    [theme=dark] .colab-df-convert:hover {\n",
              "      background-color: #434B5C;\n",
              "      box-shadow: 0px 1px 3px 1px rgba(0, 0, 0, 0.15);\n",
              "      filter: drop-shadow(0px 1px 2px rgba(0, 0, 0, 0.3));\n",
              "      fill: #FFFFFF;\n",
              "    }\n",
              "  </style>\n",
              "\n",
              "    <script>\n",
              "      const buttonEl =\n",
              "        document.querySelector('#df-d2451ee2-9754-4159-bda3-3e7ea1cd66dd button.colab-df-convert');\n",
              "      buttonEl.style.display =\n",
              "        google.colab.kernel.accessAllowed ? 'block' : 'none';\n",
              "\n",
              "      async function convertToInteractive(key) {\n",
              "        const element = document.querySelector('#df-d2451ee2-9754-4159-bda3-3e7ea1cd66dd');\n",
              "        const dataTable =\n",
              "          await google.colab.kernel.invokeFunction('convertToInteractive',\n",
              "                                                    [key], {});\n",
              "        if (!dataTable) return;\n",
              "\n",
              "        const docLinkHtml = 'Like what you see? Visit the ' +\n",
              "          '<a target=\"_blank\" href=https://colab.research.google.com/notebooks/data_table.ipynb>data table notebook</a>'\n",
              "          + ' to learn more about interactive tables.';\n",
              "        element.innerHTML = '';\n",
              "        dataTable['output_type'] = 'display_data';\n",
              "        await google.colab.output.renderOutput(dataTable, element);\n",
              "        const docLink = document.createElement('div');\n",
              "        docLink.innerHTML = docLinkHtml;\n",
              "        element.appendChild(docLink);\n",
              "      }\n",
              "    </script>\n",
              "  </div>\n",
              "\n",
              "\n",
              "<div id=\"df-176d9a14-c943-4336-83ac-31b1972b9461\">\n",
              "  <button class=\"colab-df-quickchart\" onclick=\"quickchart('df-176d9a14-c943-4336-83ac-31b1972b9461')\"\n",
              "            title=\"Suggest charts\"\n",
              "            style=\"display:none;\">\n",
              "\n",
              "<svg xmlns=\"http://www.w3.org/2000/svg\" height=\"24px\"viewBox=\"0 0 24 24\"\n",
              "     width=\"24px\">\n",
              "    <g>\n",
              "        <path d=\"M19 3H5c-1.1 0-2 .9-2 2v14c0 1.1.9 2 2 2h14c1.1 0 2-.9 2-2V5c0-1.1-.9-2-2-2zM9 17H7v-7h2v7zm4 0h-2V7h2v10zm4 0h-2v-4h2v4z\"/>\n",
              "    </g>\n",
              "</svg>\n",
              "  </button>\n",
              "\n",
              "<style>\n",
              "  .colab-df-quickchart {\n",
              "      --bg-color: #E8F0FE;\n",
              "      --fill-color: #1967D2;\n",
              "      --hover-bg-color: #E2EBFA;\n",
              "      --hover-fill-color: #174EA6;\n",
              "      --disabled-fill-color: #AAA;\n",
              "      --disabled-bg-color: #DDD;\n",
              "  }\n",
              "\n",
              "  [theme=dark] .colab-df-quickchart {\n",
              "      --bg-color: #3B4455;\n",
              "      --fill-color: #D2E3FC;\n",
              "      --hover-bg-color: #434B5C;\n",
              "      --hover-fill-color: #FFFFFF;\n",
              "      --disabled-bg-color: #3B4455;\n",
              "      --disabled-fill-color: #666;\n",
              "  }\n",
              "\n",
              "  .colab-df-quickchart {\n",
              "    background-color: var(--bg-color);\n",
              "    border: none;\n",
              "    border-radius: 50%;\n",
              "    cursor: pointer;\n",
              "    display: none;\n",
              "    fill: var(--fill-color);\n",
              "    height: 32px;\n",
              "    padding: 0;\n",
              "    width: 32px;\n",
              "  }\n",
              "\n",
              "  .colab-df-quickchart:hover {\n",
              "    background-color: var(--hover-bg-color);\n",
              "    box-shadow: 0 1px 2px rgba(60, 64, 67, 0.3), 0 1px 3px 1px rgba(60, 64, 67, 0.15);\n",
              "    fill: var(--button-hover-fill-color);\n",
              "  }\n",
              "\n",
              "  .colab-df-quickchart-complete:disabled,\n",
              "  .colab-df-quickchart-complete:disabled:hover {\n",
              "    background-color: var(--disabled-bg-color);\n",
              "    fill: var(--disabled-fill-color);\n",
              "    box-shadow: none;\n",
              "  }\n",
              "\n",
              "  .colab-df-spinner {\n",
              "    border: 2px solid var(--fill-color);\n",
              "    border-color: transparent;\n",
              "    border-bottom-color: var(--fill-color);\n",
              "    animation:\n",
              "      spin 1s steps(1) infinite;\n",
              "  }\n",
              "\n",
              "  @keyframes spin {\n",
              "    0% {\n",
              "      border-color: transparent;\n",
              "      border-bottom-color: var(--fill-color);\n",
              "      border-left-color: var(--fill-color);\n",
              "    }\n",
              "    20% {\n",
              "      border-color: transparent;\n",
              "      border-left-color: var(--fill-color);\n",
              "      border-top-color: var(--fill-color);\n",
              "    }\n",
              "    30% {\n",
              "      border-color: transparent;\n",
              "      border-left-color: var(--fill-color);\n",
              "      border-top-color: var(--fill-color);\n",
              "      border-right-color: var(--fill-color);\n",
              "    }\n",
              "    40% {\n",
              "      border-color: transparent;\n",
              "      border-right-color: var(--fill-color);\n",
              "      border-top-color: var(--fill-color);\n",
              "    }\n",
              "    60% {\n",
              "      border-color: transparent;\n",
              "      border-right-color: var(--fill-color);\n",
              "    }\n",
              "    80% {\n",
              "      border-color: transparent;\n",
              "      border-right-color: var(--fill-color);\n",
              "      border-bottom-color: var(--fill-color);\n",
              "    }\n",
              "    90% {\n",
              "      border-color: transparent;\n",
              "      border-bottom-color: var(--fill-color);\n",
              "    }\n",
              "  }\n",
              "</style>\n",
              "\n",
              "  <script>\n",
              "    async function quickchart(key) {\n",
              "      const quickchartButtonEl =\n",
              "        document.querySelector('#' + key + ' button');\n",
              "      quickchartButtonEl.disabled = true;  // To prevent multiple clicks.\n",
              "      quickchartButtonEl.classList.add('colab-df-spinner');\n",
              "      try {\n",
              "        const charts = await google.colab.kernel.invokeFunction(\n",
              "            'suggestCharts', [key], {});\n",
              "      } catch (error) {\n",
              "        console.error('Error during call to suggestCharts:', error);\n",
              "      }\n",
              "      quickchartButtonEl.classList.remove('colab-df-spinner');\n",
              "      quickchartButtonEl.classList.add('colab-df-quickchart-complete');\n",
              "    }\n",
              "    (() => {\n",
              "      let quickchartButtonEl =\n",
              "        document.querySelector('#df-176d9a14-c943-4336-83ac-31b1972b9461 button');\n",
              "      quickchartButtonEl.style.display =\n",
              "        google.colab.kernel.accessAllowed ? 'block' : 'none';\n",
              "    })();\n",
              "  </script>\n",
              "</div>\n",
              "\n",
              "    </div>\n",
              "  </div>\n"
            ],
            "application/vnd.google.colaboratory.intrinsic+json": {
              "type": "dataframe",
              "variable_name": "df",
              "summary": "{\n  \"name\": \"df\",\n  \"rows\": 7214,\n  \"fields\": [\n    {\n      \"column\": \"sex\",\n      \"properties\": {\n        \"dtype\": \"category\",\n        \"num_unique_values\": 2,\n        \"samples\": [\n          \"Female\",\n          \"Male\"\n        ],\n        \"semantic_type\": \"\",\n        \"description\": \"\"\n      }\n    },\n    {\n      \"column\": \"race\",\n      \"properties\": {\n        \"dtype\": \"category\",\n        \"num_unique_values\": 6,\n        \"samples\": [\n          \"Other\",\n          \"African-American\"\n        ],\n        \"semantic_type\": \"\",\n        \"description\": \"\"\n      }\n    },\n    {\n      \"column\": \"age_cat\",\n      \"properties\": {\n        \"dtype\": \"category\",\n        \"num_unique_values\": 3,\n        \"samples\": [\n          \"Greater than 45\",\n          \"25 - 45\"\n        ],\n        \"semantic_type\": \"\",\n        \"description\": \"\"\n      }\n    },\n    {\n      \"column\": \"juv_fel_count\",\n      \"properties\": {\n        \"dtype\": \"number\",\n        \"std\": 0,\n        \"min\": 0,\n        \"max\": 20,\n        \"num_unique_values\": 11,\n        \"samples\": [\n          3,\n          0\n        ],\n        \"semantic_type\": \"\",\n        \"description\": \"\"\n      }\n    },\n    {\n      \"column\": \"juv_misd_count\",\n      \"properties\": {\n        \"dtype\": \"number\",\n        \"std\": 0,\n        \"min\": 0,\n        \"max\": 13,\n        \"num_unique_values\": 10,\n        \"samples\": [\n          5,\n          1\n        ],\n        \"semantic_type\": \"\",\n        \"description\": \"\"\n      }\n    },\n    {\n      \"column\": \"juv_other_count\",\n      \"properties\": {\n        \"dtype\": \"number\",\n        \"std\": 0,\n        \"min\": 0,\n        \"max\": 17,\n        \"num_unique_values\": 10,\n        \"samples\": [\n          6,\n          1\n        ],\n        \"semantic_type\": \"\",\n        \"description\": \"\"\n      }\n    },\n    {\n      \"column\": \"priors_count\",\n      \"properties\": {\n        \"dtype\": \"number\",\n        \"std\": 4,\n        \"min\": 0,\n        \"max\": 38,\n        \"num_unique_values\": 37,\n        \"samples\": [\n          28,\n          20\n        ],\n        \"semantic_type\": \"\",\n        \"description\": \"\"\n      }\n    },\n    {\n      \"column\": \"c_charge_degree\",\n      \"properties\": {\n        \"dtype\": \"category\",\n        \"num_unique_values\": 2,\n        \"samples\": [\n          \"M\",\n          \"F\"\n        ],\n        \"semantic_type\": \"\",\n        \"description\": \"\"\n      }\n    },\n    {\n      \"column\": \"decile_score\",\n      \"properties\": {\n        \"dtype\": \"number\",\n        \"std\": 2,\n        \"min\": 1,\n        \"max\": 10,\n        \"num_unique_values\": 10,\n        \"samples\": [\n          2,\n          3\n        ],\n        \"semantic_type\": \"\",\n        \"description\": \"\"\n      }\n    },\n    {\n      \"column\": \"score_text\",\n      \"properties\": {\n        \"dtype\": \"category\",\n        \"num_unique_values\": 3,\n        \"samples\": [\n          \"Low\",\n          \"High\"\n        ],\n        \"semantic_type\": \"\",\n        \"description\": \"\"\n      }\n    },\n    {\n      \"column\": \"two_year_recid\",\n      \"properties\": {\n        \"dtype\": \"number\",\n        \"std\": 0,\n        \"min\": 0,\n        \"max\": 1,\n        \"num_unique_values\": 2,\n        \"samples\": [\n          1,\n          0\n        ],\n        \"semantic_type\": \"\",\n        \"description\": \"\"\n      }\n    }\n  ]\n}"
            }
          },
          "metadata": {},
          "execution_count": 25
        }
      ]
    },
    {
      "cell_type": "markdown",
      "source": [
        " One hot encode"
      ],
      "metadata": {
        "id": "Ju6DyTAeFhYv"
      }
    },
    {
      "cell_type": "code",
      "source": [
        "df = df.drop('c_charge_desc', axis=1)\n",
        "df = df.drop('age', axis=1)"
      ],
      "metadata": {
        "collapsed": true,
        "id": "0_euDvQkSwMJ"
      },
      "execution_count": null,
      "outputs": []
    },
    {
      "cell_type": "code",
      "source": [
        "categorical_cols = df.select_dtypes(include=['object']).columns\n",
        "df = pd.get_dummies(df, columns=categorical_cols, drop_first=False)"
      ],
      "metadata": {
        "id": "GYBN49lRFiqO"
      },
      "execution_count": null,
      "outputs": []
    },
    {
      "cell_type": "code",
      "source": [
        "df.info()"
      ],
      "metadata": {
        "colab": {
          "base_uri": "https://localhost:8080/"
        },
        "id": "YidIs2NQS3eF",
        "outputId": "eb1aa7f6-081e-490a-f8cb-62398a5c9093"
      },
      "execution_count": null,
      "outputs": [
        {
          "output_type": "stream",
          "name": "stdout",
          "text": [
            "<class 'pandas.core.frame.DataFrame'>\n",
            "RangeIndex: 7214 entries, 0 to 7213\n",
            "Data columns (total 11 columns):\n",
            " #   Column           Non-Null Count  Dtype \n",
            "---  ------           --------------  ----- \n",
            " 0   sex              7214 non-null   object\n",
            " 1   race             7214 non-null   object\n",
            " 2   age_cat          7214 non-null   object\n",
            " 3   juv_fel_count    7214 non-null   int64 \n",
            " 4   juv_misd_count   7214 non-null   int64 \n",
            " 5   juv_other_count  7214 non-null   int64 \n",
            " 6   priors_count     7214 non-null   int64 \n",
            " 7   c_charge_degree  7214 non-null   object\n",
            " 8   decile_score     7214 non-null   int64 \n",
            " 9   score_text       7214 non-null   object\n",
            " 10  two_year_recid   7214 non-null   int64 \n",
            "dtypes: int64(6), object(5)\n",
            "memory usage: 620.1+ KB\n"
          ]
        }
      ]
    },
    {
      "cell_type": "code",
      "source": [
        "df.columns"
      ],
      "metadata": {
        "id": "_XpsaVvKuO-O"
      },
      "execution_count": null,
      "outputs": []
    },
    {
      "cell_type": "markdown",
      "source": [
        "# Modelo Unfair"
      ],
      "metadata": {
        "id": "YtLuwU22PTr3"
      }
    },
    {
      "cell_type": "code",
      "source": [
        "X = df.drop(columns=['two_year_recid'])\n",
        "y = df['two_year_recid']\n",
        "\n",
        "# Divisão em treino e teste\n",
        "X_train, X_test, y_train, y_test = train_test_split(X, y, test_size=0.2, random_state=42)\n",
        "\n",
        "# Treinar o modelo Logistic Regression\n",
        "model = LogisticRegression(max_iter=1000, random_state=42)\n",
        "model.fit(X_train, y_train)\n",
        "\n",
        "# Previsões\n",
        "y_pred = model.predict(X_test)\n",
        "\n",
        "# Avaliar o desempenho\n",
        "print(\"Accuracy:\", accuracy_score(y_test, y_pred))\n",
        "print(\"\\nClassification Report:\\n\", classification_report(y_test, y_pred))\n",
        "\n",
        "# Pesos do modelo\n",
        "feature_importance = pd.DataFrame({\n",
        "    'Feature': X.columns,\n",
        "    'Coefficient': model.coef_[0]\n",
        "}).sort_values(by='Coefficient', ascending=False)\n",
        "\n",
        "print(\"\\nFeature Importance:\\n\", feature_importance)"
      ],
      "metadata": {
        "colab": {
          "base_uri": "https://localhost:8080/"
        },
        "id": "-lwt2HN9HGtj",
        "outputId": "b523365c-6725-4c08-a425-d744b38572be"
      },
      "execution_count": null,
      "outputs": [
        {
          "output_type": "stream",
          "name": "stdout",
          "text": [
            "Accuracy: 0.683991683991684\n",
            "\n",
            "Classification Report:\n",
            "               precision    recall  f1-score   support\n",
            "\n",
            "           0       0.71      0.76      0.73       823\n",
            "           1       0.64      0.59      0.62       620\n",
            "\n",
            "    accuracy                           0.68      1443\n",
            "   macro avg       0.68      0.67      0.67      1443\n",
            "weighted avg       0.68      0.68      0.68      1443\n",
            "\n",
            "\n",
            "Feature Importance:\n",
            "                     Feature  Coefficient\n",
            "15     age_cat_Less than 25     0.236348\n",
            "2           juv_other_count     0.178533\n",
            "4              decile_score     0.171462\n",
            "0             juv_fel_count     0.115039\n",
            "3              priors_count     0.091977\n",
            "11     race_Native American     0.044714\n",
            "1            juv_misd_count     0.028020\n",
            "9            race_Caucasian    -0.007273\n",
            "7     race_African-American    -0.066000\n",
            "6                  sex_Male    -0.071043\n",
            "12               race_Other    -0.076923\n",
            "10            race_Hispanic    -0.092931\n",
            "13          age_cat_25 - 45    -0.143306\n",
            "19           score_text_Low    -0.143848\n",
            "18          score_text_High    -0.162163\n",
            "16        c_charge_degree_F    -0.164286\n",
            "20        score_text_Medium    -0.171560\n",
            "8                race_Asian    -0.279158\n",
            "17        c_charge_degree_M    -0.313285\n",
            "5                sex_Female    -0.406528\n",
            "14  age_cat_Greater than 45    -0.570613\n"
          ]
        }
      ]
    },
    {
      "cell_type": "code",
      "source": [
        "native_american_rows = df2['race'] == 'Native American'\n",
        "\n",
        "# 2. Select desired rows:\n",
        "df2 = df2[~native_american_rows]"
      ],
      "metadata": {
        "id": "9b4YrNuozZda"
      },
      "execution_count": null,
      "outputs": []
    },
    {
      "cell_type": "code",
      "source": [
        "# Assuming `df2` is your dataset\n",
        "plt.figure(figsize=(10, 6))\n",
        "sns.boxplot(data=df2, x='race', y='decile_score', palette='Set2')\n",
        "plt.xlabel('Race')\n",
        "plt.ylabel('Decile Score')\n",
        "plt.xticks(rotation=45)\n",
        "plt.tight_layout()\n",
        "plt.savefig('decile_score_boxplot.png')  # Save as image\n",
        "plt.show()"
      ],
      "metadata": {
        "colab": {
          "base_uri": "https://localhost:8080/",
          "height": 718
        },
        "id": "0bsTvYV6yjgk",
        "outputId": "04ed0764-f772-47a3-a27e-b542e8ffa096"
      },
      "execution_count": null,
      "outputs": [
        {
          "output_type": "stream",
          "name": "stderr",
          "text": [
            "<ipython-input-39-efd1ff4797fe>:3: FutureWarning: \n",
            "\n",
            "Passing `palette` without assigning `hue` is deprecated and will be removed in v0.14.0. Assign the `x` variable to `hue` and set `legend=False` for the same effect.\n",
            "\n",
            "  sns.boxplot(data=df2, x='race', y='decile_score', palette='Set2')\n"
          ]
        },
        {
          "output_type": "display_data",
          "data": {
            "text/plain": [
              "<Figure size 1000x600 with 1 Axes>"
            ],
            "image/png": "[encoded data removed]"
          },
          "metadata": {}
        }
      ]
    },
    {
      "cell_type": "code",
      "source": [
        "# Separar os grupos sensíveis (raça) no conjunto de teste\n",
        "race_groups = X_test[['race_African-American', 'race_Caucasian']]\n",
        "y_test_array = y_test.to_numpy()\n",
        "\n",
        "# Previsões do modelo\n",
        "y_pred = model.predict(X_test)\n",
        "\n",
        "# Função para calcular TPR (True Positive Rate) e FPR (False Positive Rate)\n",
        "def calculate_rates(y_true, y_pred):\n",
        "    cm = confusion_matrix(y_true, y_pred)\n",
        "    TN, FP, FN, TP = cm.ravel()\n",
        "    TPR = TP / (TP + FN) if (TP + FN) > 0 else 0  # Recall\n",
        "    FPR = FP / (FP + TN) if (FP + TN) > 0 else 0\n",
        "    return TPR, FPR\n",
        "\n",
        "# Filtrar as previsões por grupos sensíveis\n",
        "def group_rates(group_mask, y_true, y_pred):\n",
        "    group_y_true = y_true[group_mask]\n",
        "    group_y_pred = y_pred[group_mask]\n",
        "    return calculate_rates(group_y_true, group_y_pred)\n",
        "\n",
        "# Máscaras para os grupos \"African-American\" e \"Caucasian\"\n",
        "mask_african_american = race_groups['race_African-American'] == 1\n",
        "mask_caucasian = race_groups['race_Caucasian'] == 1\n",
        "\n",
        "# Calcular TPR e FPR para cada grupo\n",
        "tpr_african_american, fpr_african_american = group_rates(mask_african_american, y_test_array, y_pred)\n",
        "tpr_caucasian, fpr_caucasian = group_rates(mask_caucasian, y_test_array, y_pred)\n",
        "\n",
        "# Calcular Average Odds Difference\n",
        "average_odds_difference = 0.5 * ((tpr_african_american - tpr_caucasian) + (fpr_african_american - fpr_caucasian))\n",
        "\n",
        "# Resultados\n",
        "print(f\"TPR African-American: {tpr_african_american:.3f}, FPR African-American: {fpr_african_american:.3f}\")\n",
        "print(f\"TPR Caucasian: {tpr_caucasian:.3f}, FPR Caucasian: {fpr_caucasian:.3f}\")\n",
        "print(f\"Average Odds Difference: {average_odds_difference:.3f}\")\n"
      ],
      "metadata": {
        "colab": {
          "base_uri": "https://localhost:8080/"
        },
        "id": "W1FHDtPoR2QH",
        "outputId": "7fc741fd-fdb3-4298-94e1-d07d6ae4cabe"
      },
      "execution_count": null,
      "outputs": [
        {
          "output_type": "stream",
          "name": "stdout",
          "text": [
            "TPR African-American: 0.699, FPR African-American: 0.334\n",
            "TPR Caucasian: 0.470, FPR Caucasian: 0.169\n",
            "Average Odds Difference: 0.197\n"
          ]
        }
      ]
    },
    {
      "cell_type": "markdown",
      "source": [
        "# Mitigando no Pré processamento"
      ],
      "metadata": {
        "id": "uHNZHRxGcLzH"
      }
    },
    {
      "cell_type": "code",
      "source": [
        "# Carregar o dataset no formato do AIF360\n",
        "protected_attribute = 'race_African-American'\n",
        "\n",
        "# Criar o AIF360 Dataset\n",
        "aif_data = StandardDataset(\n",
        "    df,\n",
        "    label_name='two_year_recid',\n",
        "    favorable_classes=[0],  # Classe favorável (não reincidir)\n",
        "    protected_attribute_names=[protected_attribute],\n",
        "    privileged_classes=[[1]]  # Privilegiado: African-American = 1\n",
        ")\n",
        "\n",
        "# Aplicar o Reweighing\n",
        "reweighing = Reweighing(unprivileged_groups=[{protected_attribute: 0}],\n",
        "                        privileged_groups=[{protected_attribute: 1}])\n",
        "reweighed_data = reweighing.fit_transform(aif_data)\n",
        "\n",
        "# Obter os pesos\n",
        "weights = reweighed_data.instance_weights\n",
        "\n",
        "# Preparar X e y para treinamento\n",
        "X_train = df.drop(columns=['two_year_recid'])\n",
        "y_train = df['two_year_recid']\n",
        "\n",
        "# Treinar o modelo Logistic Regression com os pesos ajustados\n",
        "model = LogisticRegression(max_iter=1000, random_state=42)\n",
        "model.fit(X_train, y_train, sample_weight=weights)\n",
        "\n",
        "# Previsões\n",
        "y_pred = model.predict(X_test)\n",
        "\n",
        "# Avaliação do modelo\n",
        "print(\"Accuracy:\", accuracy_score(y_test, y_pred))\n",
        "print(\"\\nClassification Report:\\n\", classification_report(y_test, y_pred))"
      ],
      "metadata": {
        "colab": {
          "base_uri": "https://localhost:8080/"
        },
        "id": "JwV6ZAMxX7At",
        "outputId": "a6963c79-a674-48ee-def9-f04965867120"
      },
      "execution_count": null,
      "outputs": [
        {
          "output_type": "stream",
          "name": "stderr",
          "text": [
            "/usr/local/lib/python3.10/dist-packages/aif360/datasets/standard_dataset.py:122: FutureWarning: Setting an item of incompatible dtype is deprecated and will raise an error in a future version of pandas. Value '1.0' has dtype incompatible with bool, please explicitly cast to a compatible dtype first.\n",
            "  df.loc[priv, attr] = privileged_values[0]\n"
          ]
        },
        {
          "output_type": "stream",
          "name": "stdout",
          "text": [
            "Accuracy: 0.6770616770616771\n",
            "\n",
            "Classification Report:\n",
            "               precision    recall  f1-score   support\n",
            "\n",
            "           0       0.70      0.76      0.73       823\n",
            "           1       0.64      0.57      0.60       620\n",
            "\n",
            "    accuracy                           0.68      1443\n",
            "   macro avg       0.67      0.66      0.67      1443\n",
            "weighted avg       0.67      0.68      0.67      1443\n",
            "\n"
          ]
        }
      ]
    },
    {
      "cell_type": "markdown",
      "source": [
        "AVERAGE ODDS MITIGADO NO PRE PROCESSAMENTO"
      ],
      "metadata": {
        "id": "gh2fPLzic3CQ"
      }
    },
    {
      "cell_type": "code",
      "source": [
        "tpr_african_american, fpr_african_american = group_rates(mask_african_american, y_test_array, y_pred)\n",
        "tpr_caucasian, fpr_caucasian = group_rates(mask_caucasian, y_test_array, y_pred)\n",
        "\n",
        "average_odds_difference = 0.5 * ((tpr_african_american - tpr_caucasian) + (fpr_african_american - fpr_caucasian))\n",
        "\n",
        "print(f\"TPR African-American: {tpr_african_american:.3f}, FPR African-American: {fpr_african_american:.3f}\")\n",
        "print(f\"TPR Caucasian: {tpr_caucasian:.3f}, FPR Caucasian: {fpr_caucasian:.3f}\")\n",
        "print(f\"Average Odds Difference: {average_odds_difference:.3f}\")"
      ],
      "metadata": {
        "id": "DC4J3c_gc6TU",
        "outputId": "638de126-f90d-4710-a17e-56da6c36a951",
        "colab": {
          "base_uri": "https://localhost:8080/"
        }
      },
      "execution_count": null,
      "outputs": [
        {
          "output_type": "stream",
          "name": "stdout",
          "text": [
            "TPR African-American: 0.597, FPR African-American: 0.234\n",
            "TPR Caucasian: 0.589, FPR Caucasian: 0.259\n",
            "Average Odds Difference: -0.009\n"
          ]
        }
      ]
    },
    {
      "cell_type": "markdown",
      "source": [
        "# In processing"
      ],
      "metadata": {
        "id": "L4LEgFw2dZtL"
      }
    },
    {
      "cell_type": "code",
      "source": [
        "protected_attribute = 'race_African-American'\n",
        "\n",
        "aif_data = StandardDataset(\n",
        "    df,\n",
        "    label_name='two_year_recid',\n",
        "    favorable_classes=[0],  # Classe favorável: Não reincidiu\n",
        "    protected_attribute_names=[protected_attribute],\n",
        "    privileged_classes=[[1]]  # Privilegiado: African-American\n",
        ")\n",
        "\n",
        "# Aplicar o Prejudice Remover\n",
        "pr_model = PrejudiceRemover(sensitive_attr=protected_attribute, eta=0.5)\n",
        "pr_model.fit(aif_data)\n",
        "\n",
        "# Previsões no conjunto de teste\n",
        "test_aif_data = StandardDataset(\n",
        "    X_test.merge(y_test, left_index=True, right_index=True),\n",
        "    label_name='two_year_recid',\n",
        "    favorable_classes=[0],\n",
        "    protected_attribute_names=[protected_attribute],\n",
        "    privileged_classes=[[1]]\n",
        ")"
      ],
      "metadata": {
        "colab": {
          "base_uri": "https://localhost:8080/"
        },
        "id": "DMsBuBdGnZc9",
        "outputId": "74c0cb1a-98b8-4970-911a-a1fb26a105a6"
      },
      "execution_count": null,
      "outputs": [
        {
          "output_type": "stream",
          "name": "stderr",
          "text": [
            "/usr/local/lib/python3.10/dist-packages/aif360/datasets/standard_dataset.py:122: FutureWarning: Setting an item of incompatible dtype is deprecated and will raise an error in a future version of pandas. Value '1.0' has dtype incompatible with bool, please explicitly cast to a compatible dtype first.\n",
            "  df.loc[priv, attr] = privileged_values[0]\n",
            "/usr/local/lib/python3.10/dist-packages/aif360/datasets/standard_dataset.py:122: FutureWarning: Setting an item of incompatible dtype is deprecated and will raise an error in a future version of pandas. Value '1.0' has dtype incompatible with bool, please explicitly cast to a compatible dtype first.\n",
            "  df.loc[priv, attr] = privileged_values[0]\n"
          ]
        }
      ]
    },
    {
      "cell_type": "code",
      "source": [
        "etas = [0.1, 0.3, 0.5, 1.0]\n",
        "\n",
        "for eta in etas:\n",
        "    print(f\"\\nTesting Prejudice Remover with eta = {eta}\")\n",
        "    pr_model = PrejudiceRemover(sensitive_attr=protected_attribute, eta=eta)\n",
        "    pr_model.fit(aif_data)\n",
        "\n",
        "    predictions = pr_model.predict(test_aif_data)\n",
        "    y_pred = predictions.labels.ravel()\n",
        "\n",
        "    accuracy = accuracy_score(y_test, y_pred)\n",
        "    print(f\"Accuracy: {accuracy:.3f}\")\n",
        "\n",
        "    # Calcular Average Odds Difference\n",
        "    tpr_african_american, fpr_african_american = group_rates(mask_african_american, y_test_array, y_pred)\n",
        "    tpr_caucasian, fpr_caucasian = group_rates(mask_caucasian, y_test_array, y_pred)\n",
        "    average_odds_difference = 0.5 * ((tpr_african_american - tpr_caucasian) + (fpr_african_american - fpr_caucasian))\n",
        "    print(f\"Average Odds Difference: {average_odds_difference:.3f}\")\n"
      ],
      "metadata": {
        "colab": {
          "base_uri": "https://localhost:8080/"
        },
        "id": "LGcP7qfYjV06",
        "outputId": "1e76310b-f27b-4259-ae7d-c363bcd62c37"
      },
      "execution_count": null,
      "outputs": [
        {
          "output_type": "stream",
          "name": "stdout",
          "text": [
            "\n",
            "Testing Prejudice Remover with eta = 0.1\n",
            "Accuracy: 0.308\n",
            "Average Odds Difference: -0.214\n",
            "\n",
            "Testing Prejudice Remover with eta = 0.3\n",
            "Accuracy: 0.310\n",
            "Average Odds Difference: -0.200\n",
            "\n",
            "Testing Prejudice Remover with eta = 0.5\n",
            "Accuracy: 0.310\n",
            "Average Odds Difference: -0.200\n",
            "\n",
            "Testing Prejudice Remover with eta = 1.0\n",
            "Accuracy: 0.315\n",
            "Average Odds Difference: -0.196\n"
          ]
        }
      ]
    },
    {
      "cell_type": "code",
      "source": [
        "# Calcular TPR e FPR para African-American\n",
        "tpr_african_american, fpr_african_american = group_rates(mask_african_american, y_test_array, y_pred)\n",
        "\n",
        "# Calcular TPR e FPR para Caucasian\n",
        "tpr_caucasian, fpr_caucasian = group_rates(mask_caucasian, y_test_array, y_pred)\n",
        "\n",
        "# Calcular Average Odds Difference\n",
        "average_odds_difference = 0.5 * ((tpr_african_american - tpr_caucasian) + (fpr_african_american - fpr_caucasian))\n",
        "\n",
        "# Resultados\n",
        "print(f\"TPR African-American: {tpr_african_american:.3f}, FPR African-American: {fpr_african_american:.3f}\")\n",
        "print(f\"TPR Caucasian: {tpr_caucasian:.3f}, FPR Caucasian: {fpr_caucasian:.3f}\")\n",
        "print(f\"Average Odds Difference: {average_odds_difference:.3f}\")"
      ],
      "metadata": {
        "colab": {
          "base_uri": "https://localhost:8080/"
        },
        "id": "d4phj2xRfIjc",
        "outputId": "d5b60b55-bd2b-4d38-8e2a-668ecf4de6e9"
      },
      "execution_count": null,
      "outputs": [
        {
          "output_type": "stream",
          "name": "stdout",
          "text": [
            "TPR African-American: 0.309, FPR African-American: 0.671\n",
            "TPR Caucasian: 0.524, FPR Caucasian: 0.856\n",
            "Average Odds Difference: -0.200\n"
          ]
        }
      ]
    },
    {
      "cell_type": "markdown",
      "source": [
        "# Post processing"
      ],
      "metadata": {
        "id": "eAxc63tEkOs-"
      }
    },
    {
      "cell_type": "code",
      "source": [
        "# Configurar o ThresholdOptimizer\n",
        "equalized_odds = ThresholdOptimizer(\n",
        "    estimator=model,  # Modelo já treinado\n",
        "    constraints=\"equalized_odds\",  # Garantir igualdade de odds\n",
        "    prefit=True  # O modelo já foi treinado\n",
        ")\n",
        "\n",
        "# Treinar o ThresholdOptimizer no conjunto de validação\n",
        "sensitive_features_train = X_train['race_African-American']\n",
        "equalized_odds.fit(X_train, y_train, sensitive_features=sensitive_features_train)\n",
        "\n",
        "# Fazer previsões ajustadas no conjunto de teste\n",
        "sensitive_features_test = X_test['race_African-American']\n",
        "y_pred_post = equalized_odds.predict(X_test, sensitive_features=sensitive_features_test)\n",
        "\n",
        "# Avaliar o desempenho\n",
        "print(\"Accuracy:\", accuracy_score(y_test, y_pred_post))\n",
        "print(\"\\nClassification Report:\\n\", classification_report(y_test, y_pred_post))"
      ],
      "metadata": {
        "colab": {
          "base_uri": "https://localhost:8080/"
        },
        "id": "xyLlBr2IkM3o",
        "outputId": "67154a5b-3b62-4393-8f4a-98a959de5600"
      },
      "execution_count": null,
      "outputs": [
        {
          "output_type": "stream",
          "name": "stderr",
          "text": [
            "/usr/local/lib/python3.10/dist-packages/fairlearn/postprocessing/_threshold_optimizer.py:285: FutureWarning: 'predict_method' default value is changed from 'predict' to 'auto'. Explicitly pass `predict_method='predict' to replicate the old behavior, or pass `predict_method='auto' or other valid values to silence this warning.\n",
            "  warn(\n"
          ]
        },
        {
          "output_type": "stream",
          "name": "stdout",
          "text": [
            "Accuracy: 0.6666666666666666\n",
            "\n",
            "Classification Report:\n",
            "               precision    recall  f1-score   support\n",
            "\n",
            "           0       0.69      0.76      0.72       823\n",
            "           1       0.63      0.54      0.58       620\n",
            "\n",
            "    accuracy                           0.67      1443\n",
            "   macro avg       0.66      0.65      0.65      1443\n",
            "weighted avg       0.66      0.67      0.66      1443\n",
            "\n"
          ]
        }
      ]
    },
    {
      "cell_type": "code",
      "source": [
        "def calculate_rates(y_true, y_pred):\n",
        "    cm = confusion_matrix(y_true, y_pred)\n",
        "    TN, FP, FN, TP = cm.ravel()\n",
        "    TPR = TP / (TP + FN) if (TP + FN) > 0 else 0  # Recall\n",
        "    FPR = FP / (FP + TN) if (FP + TN) > 0 else 0\n",
        "    return TPR, FPR\n",
        "\n",
        "# Máscaras para os grupos sensíveis\n",
        "mask_african_american = X_test['race_African-American'] == 1\n",
        "mask_caucasian = X_test['race_Caucasian'] == 1\n",
        "\n",
        "# Calcular TPR e FPR para African-American\n",
        "tpr_african_american, fpr_african_american = calculate_rates(\n",
        "    y_test[mask_african_american],\n",
        "    y_pred_post[mask_african_american]\n",
        ")\n",
        "\n",
        "# Calcular TPR e FPR para Caucasian\n",
        "tpr_caucasian, fpr_caucasian = calculate_rates(\n",
        "    y_test[mask_caucasian],\n",
        "    y_pred_post[mask_caucasian]\n",
        ")\n",
        "\n",
        "# Calcular Average Odds Difference\n",
        "average_odds_difference = 0.5 * ((tpr_african_american - tpr_caucasian) + (fpr_african_american - fpr_caucasian))\n",
        "\n",
        "# Resultados\n",
        "print(f\"\\nTPR African-American: {tpr_african_american:.3f}, FPR African-American: {fpr_african_american:.3f}\")\n",
        "print(f\"TPR Caucasian: {tpr_caucasian:.3f}, FPR Caucasian: {fpr_caucasian:.3f}\")\n",
        "print(f\"Average Odds Difference: {average_odds_difference:.3f}\")"
      ],
      "metadata": {
        "colab": {
          "base_uri": "https://localhost:8080/"
        },
        "id": "vJMph7v2nOF9",
        "outputId": "915cae8f-0ed0-4823-fe3f-00e3b3e876dc"
      },
      "execution_count": null,
      "outputs": [
        {
          "output_type": "stream",
          "name": "stdout",
          "text": [
            "\n",
            "TPR African-American: 0.551, FPR African-American: 0.228\n",
            "TPR Caucasian: 0.589, FPR Caucasian: 0.259\n",
            "Average Odds Difference: -0.035\n"
          ]
        }
      ]
    }
  ]
}